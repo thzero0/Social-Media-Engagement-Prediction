{
 "cells": [
  {
   "cell_type": "markdown",
   "id": "305be942",
   "metadata": {},
   "source": [
    "\n",
    "---\n",
    "\n",
    "## **Atividade 1 — Classificação Supervisionada**\n",
    "\n",
    "Nesta atividade, você deve **comparar quatro diferentes paradigmas de aprendizado de máquina**: probabilísticos, simbólicos, conexionistas e estatísticos.\n",
    "\n",
    "> **Importante:** Durante a **etapa de inferência**, o modelo **só poderá utilizar o conteúdo textual** (`content`) do post para prever o engajamento. Informações como `reactions` e `comments` devem ser utilizadas apenas na etapa de treinamento, se desejar, mas não podem ser usadas como entrada no momento da predição de novos posts (eles não estarão disponíveis em inferência).\n",
    "\n",
    "Para avaliação, será disponibilizado um arquivo de teste contendo **novas postagens sem o rótulo de engajamento**, e cada aluno deverá submeter suas **previsões finais de engajamento** para essas novas entradas."
   ]
  },
  {
   "cell_type": "code",
   "execution_count": null,
   "id": "14f83f8a",
   "metadata": {},
   "outputs": [],
   "source": [
    "import matplotlib.pyplot as plt\n",
    "import numpy as np\n",
    "import pandas as pd\n",
    "\n",
    "from sklearn.model_selection import StratifiedKFold\n",
    "from sklearn.model_selection import train_test_split\n",
    "from sklearn.metrics import accuracy_score\n",
    "from sklearn.metrics import f1_score\n",
    "from sklearn.preprocessing import StandardScaler\n",
    "\n",
    "from keras.models import Sequential\n",
    "from keras.layers import Dense, Dropout\n",
    "from keras.callbacks import EarlyStopping\n",
    "#from sklearn.neural_network import MLPClassifier\n",
    "from sklearn.tree import DecisionTreeClassifier\n",
    "from sklearn.svm import SVC\n",
    "from sklearn.naive_bayes import GaussianNB\n"
   ]
  },
  {
   "cell_type": "code",
   "execution_count": 2,
   "id": "0954b547",
   "metadata": {},
   "outputs": [
    {
     "data": {
      "text/html": [
       "<div>\n",
       "<style scoped>\n",
       "    .dataframe tbody tr th:only-of-type {\n",
       "        vertical-align: middle;\n",
       "    }\n",
       "\n",
       "    .dataframe tbody tr th {\n",
       "        vertical-align: top;\n",
       "    }\n",
       "\n",
       "    .dataframe thead th {\n",
       "        text-align: right;\n",
       "    }\n",
       "</style>\n",
       "<table border=\"1\" class=\"dataframe\">\n",
       "  <thead>\n",
       "    <tr style=\"text-align: right;\">\n",
       "      <th></th>\n",
       "      <th>anon_id</th>\n",
       "      <th>content</th>\n",
       "      <th>reactions</th>\n",
       "      <th>comments</th>\n",
       "      <th>score</th>\n",
       "      <th>engagement</th>\n",
       "    </tr>\n",
       "  </thead>\n",
       "  <tbody>\n",
       "    <tr>\n",
       "      <th>0</th>\n",
       "      <td>afb338bc4e80e811be481b27807934c5</td>\n",
       "      <td>Robert Lerman  writes that achieving a healthy...</td>\n",
       "      <td>12</td>\n",
       "      <td>1</td>\n",
       "      <td>13</td>\n",
       "      <td>low</td>\n",
       "    </tr>\n",
       "    <tr>\n",
       "      <th>1</th>\n",
       "      <td>afb338bc4e80e811be481b27807934c5</td>\n",
       "      <td>National disability advocate  Sara Hart Weir, ...</td>\n",
       "      <td>11</td>\n",
       "      <td>0</td>\n",
       "      <td>11</td>\n",
       "      <td>low</td>\n",
       "    </tr>\n",
       "    <tr>\n",
       "      <th>2</th>\n",
       "      <td>afb338bc4e80e811be481b27807934c5</td>\n",
       "      <td>NaN</td>\n",
       "      <td>15</td>\n",
       "      <td>0</td>\n",
       "      <td>15</td>\n",
       "      <td>low</td>\n",
       "    </tr>\n",
       "    <tr>\n",
       "      <th>3</th>\n",
       "      <td>afb338bc4e80e811be481b27807934c5</td>\n",
       "      <td>Exploring in this months Talent Management &amp; H...</td>\n",
       "      <td>44</td>\n",
       "      <td>0</td>\n",
       "      <td>44</td>\n",
       "      <td>low</td>\n",
       "    </tr>\n",
       "    <tr>\n",
       "      <th>4</th>\n",
       "      <td>afb338bc4e80e811be481b27807934c5</td>\n",
       "      <td>I count myself fortunate to have spent time wi...</td>\n",
       "      <td>22</td>\n",
       "      <td>2</td>\n",
       "      <td>24</td>\n",
       "      <td>low</td>\n",
       "    </tr>\n",
       "    <tr>\n",
       "      <th>...</th>\n",
       "      <td>...</td>\n",
       "      <td>...</td>\n",
       "      <td>...</td>\n",
       "      <td>...</td>\n",
       "      <td>...</td>\n",
       "      <td>...</td>\n",
       "    </tr>\n",
       "    <tr>\n",
       "      <th>23803</th>\n",
       "      <td>ecc9ab53ac5a897358b35118221ea367</td>\n",
       "      <td>Check out my interview with @AaronBerson ! I w...</td>\n",
       "      <td>5</td>\n",
       "      <td>0</td>\n",
       "      <td>5</td>\n",
       "      <td>low</td>\n",
       "    </tr>\n",
       "    <tr>\n",
       "      <th>23804</th>\n",
       "      <td>ecc9ab53ac5a897358b35118221ea367</td>\n",
       "      <td>Check out my interview with @MikeMax32CPA abou...</td>\n",
       "      <td>3</td>\n",
       "      <td>0</td>\n",
       "      <td>3</td>\n",
       "      <td>low</td>\n",
       "    </tr>\n",
       "    <tr>\n",
       "      <th>23805</th>\n",
       "      <td>ecc9ab53ac5a897358b35118221ea367</td>\n",
       "      <td>Love!  #radicalcpa</td>\n",
       "      <td>76</td>\n",
       "      <td>3</td>\n",
       "      <td>79</td>\n",
       "      <td>low</td>\n",
       "    </tr>\n",
       "    <tr>\n",
       "      <th>23806</th>\n",
       "      <td>ecc9ab53ac5a897358b35118221ea367</td>\n",
       "      <td>Did you know next year is going to be the best...</td>\n",
       "      <td>1</td>\n",
       "      <td>0</td>\n",
       "      <td>1</td>\n",
       "      <td>low</td>\n",
       "    </tr>\n",
       "    <tr>\n",
       "      <th>23807</th>\n",
       "      <td>ecc9ab53ac5a897358b35118221ea367</td>\n",
       "      <td>Check out my interview with @dustinwCPA ! Tune...</td>\n",
       "      <td>9</td>\n",
       "      <td>0</td>\n",
       "      <td>9</td>\n",
       "      <td>low</td>\n",
       "    </tr>\n",
       "  </tbody>\n",
       "</table>\n",
       "<p>23808 rows × 6 columns</p>\n",
       "</div>"
      ],
      "text/plain": [
       "                                anon_id  \\\n",
       "0      afb338bc4e80e811be481b27807934c5   \n",
       "1      afb338bc4e80e811be481b27807934c5   \n",
       "2      afb338bc4e80e811be481b27807934c5   \n",
       "3      afb338bc4e80e811be481b27807934c5   \n",
       "4      afb338bc4e80e811be481b27807934c5   \n",
       "...                                 ...   \n",
       "23803  ecc9ab53ac5a897358b35118221ea367   \n",
       "23804  ecc9ab53ac5a897358b35118221ea367   \n",
       "23805  ecc9ab53ac5a897358b35118221ea367   \n",
       "23806  ecc9ab53ac5a897358b35118221ea367   \n",
       "23807  ecc9ab53ac5a897358b35118221ea367   \n",
       "\n",
       "                                                 content  reactions  comments  \\\n",
       "0      Robert Lerman  writes that achieving a healthy...         12         1   \n",
       "1      National disability advocate  Sara Hart Weir, ...         11         0   \n",
       "2                                                    NaN         15         0   \n",
       "3      Exploring in this months Talent Management & H...         44         0   \n",
       "4      I count myself fortunate to have spent time wi...         22         2   \n",
       "...                                                  ...        ...       ...   \n",
       "23803  Check out my interview with @AaronBerson ! I w...          5         0   \n",
       "23804  Check out my interview with @MikeMax32CPA abou...          3         0   \n",
       "23805                                 Love!  #radicalcpa         76         3   \n",
       "23806  Did you know next year is going to be the best...          1         0   \n",
       "23807  Check out my interview with @dustinwCPA ! Tune...          9         0   \n",
       "\n",
       "       score engagement  \n",
       "0         13        low  \n",
       "1         11        low  \n",
       "2         15        low  \n",
       "3         44        low  \n",
       "4         24        low  \n",
       "...      ...        ...  \n",
       "23803      5        low  \n",
       "23804      3        low  \n",
       "23805     79        low  \n",
       "23806      1        low  \n",
       "23807      9        low  \n",
       "\n",
       "[23808 rows x 6 columns]"
      ]
     },
     "execution_count": 2,
     "metadata": {},
     "output_type": "execute_result"
    }
   ],
   "source": [
    "df = pd.read_pickle('../data/df_social_data_train.pkl')\n",
    "df"
   ]
  },
  {
   "cell_type": "code",
   "execution_count": 3,
   "id": "4c11ac2b",
   "metadata": {},
   "outputs": [
    {
     "name": "stderr",
     "output_type": "stream",
     "text": [
      "/home/thzero/Documentos/Disciplinas/IA/IA/lib/python3.12/site-packages/tqdm/auto.py:21: TqdmWarning: IProgress not found. Please update jupyter and ipywidgets. See https://ipywidgets.readthedocs.io/en/stable/user_install.html\n",
      "  from .autonotebook import tqdm as notebook_tqdm\n",
      "/home/thzero/Documentos/Disciplinas/IA/IA/lib/python3.12/site-packages/torch/cuda/__init__.py:174: UserWarning: CUDA initialization: CUDA unknown error - this may be due to an incorrectly set up environment, e.g. changing env variable CUDA_VISIBLE_DEVICES after program start. Setting the available devices to be zero. (Triggered internally at /pytorch/c10/cuda/CUDAFunctions.cpp:109.)\n",
      "  return torch._C._cuda_getDeviceCount() > 0\n"
     ]
    }
   ],
   "source": [
    "# pre-processar e extrair caracteristicas dos dados para construir a tabela atributo-valor\n",
    "from sentence_transformers import SentenceTransformer\n",
    "\n",
    "# 1. Load a pretrained Sentence Transformer model\n",
    "model = SentenceTransformer(\"all-MiniLM-L6-v2\")"
   ]
  },
  {
   "cell_type": "code",
   "execution_count": 4,
   "id": "a21ee97a",
   "metadata": {},
   "outputs": [],
   "source": [
    "df = df.dropna()"
   ]
  },
  {
   "cell_type": "code",
   "execution_count": 5,
   "id": "b5d87b2a",
   "metadata": {},
   "outputs": [
    {
     "name": "stderr",
     "output_type": "stream",
     "text": [
      "Batches: 100%|██████████| 704/704 [07:52<00:00,  1.49it/s]\n",
      "/tmp/ipykernel_254499/1892182183.py:1: SettingWithCopyWarning: \n",
      "A value is trying to be set on a copy of a slice from a DataFrame.\n",
      "Try using .loc[row_indexer,col_indexer] = value instead\n",
      "\n",
      "See the caveats in the documentation: https://pandas.pydata.org/pandas-docs/stable/user_guide/indexing.html#returning-a-view-versus-a-copy\n",
      "  df['features'] = list(model.encode(df['content'].tolist(), show_progress_bar=True))\n"
     ]
    },
    {
     "data": {
      "text/html": [
       "<div>\n",
       "<style scoped>\n",
       "    .dataframe tbody tr th:only-of-type {\n",
       "        vertical-align: middle;\n",
       "    }\n",
       "\n",
       "    .dataframe tbody tr th {\n",
       "        vertical-align: top;\n",
       "    }\n",
       "\n",
       "    .dataframe thead th {\n",
       "        text-align: right;\n",
       "    }\n",
       "</style>\n",
       "<table border=\"1\" class=\"dataframe\">\n",
       "  <thead>\n",
       "    <tr style=\"text-align: right;\">\n",
       "      <th></th>\n",
       "      <th>anon_id</th>\n",
       "      <th>content</th>\n",
       "      <th>reactions</th>\n",
       "      <th>comments</th>\n",
       "      <th>score</th>\n",
       "      <th>engagement</th>\n",
       "      <th>features</th>\n",
       "    </tr>\n",
       "  </thead>\n",
       "  <tbody>\n",
       "    <tr>\n",
       "      <th>0</th>\n",
       "      <td>afb338bc4e80e811be481b27807934c5</td>\n",
       "      <td>Robert Lerman  writes that achieving a healthy...</td>\n",
       "      <td>12</td>\n",
       "      <td>1</td>\n",
       "      <td>13</td>\n",
       "      <td>low</td>\n",
       "      <td>[-0.011695226, 0.027859222, 0.036047406, -0.03...</td>\n",
       "    </tr>\n",
       "    <tr>\n",
       "      <th>1</th>\n",
       "      <td>afb338bc4e80e811be481b27807934c5</td>\n",
       "      <td>National disability advocate  Sara Hart Weir, ...</td>\n",
       "      <td>11</td>\n",
       "      <td>0</td>\n",
       "      <td>11</td>\n",
       "      <td>low</td>\n",
       "      <td>[-0.026237344, -0.064887136, -0.0078637935, 0....</td>\n",
       "    </tr>\n",
       "    <tr>\n",
       "      <th>3</th>\n",
       "      <td>afb338bc4e80e811be481b27807934c5</td>\n",
       "      <td>Exploring in this months Talent Management &amp; H...</td>\n",
       "      <td>44</td>\n",
       "      <td>0</td>\n",
       "      <td>44</td>\n",
       "      <td>low</td>\n",
       "      <td>[-0.023109017, -0.020342512, 0.035548195, -0.0...</td>\n",
       "    </tr>\n",
       "    <tr>\n",
       "      <th>4</th>\n",
       "      <td>afb338bc4e80e811be481b27807934c5</td>\n",
       "      <td>I count myself fortunate to have spent time wi...</td>\n",
       "      <td>22</td>\n",
       "      <td>2</td>\n",
       "      <td>24</td>\n",
       "      <td>low</td>\n",
       "      <td>[-0.05438446, 0.0031936788, -0.06155947, 0.011...</td>\n",
       "    </tr>\n",
       "    <tr>\n",
       "      <th>5</th>\n",
       "      <td>afb338bc4e80e811be481b27807934c5</td>\n",
       "      <td>Online job platforms are a different way of wo...</td>\n",
       "      <td>21</td>\n",
       "      <td>1</td>\n",
       "      <td>22</td>\n",
       "      <td>low</td>\n",
       "      <td>[-0.068378255, -0.06278064, -0.010366013, -0.0...</td>\n",
       "    </tr>\n",
       "    <tr>\n",
       "      <th>...</th>\n",
       "      <td>...</td>\n",
       "      <td>...</td>\n",
       "      <td>...</td>\n",
       "      <td>...</td>\n",
       "      <td>...</td>\n",
       "      <td>...</td>\n",
       "      <td>...</td>\n",
       "    </tr>\n",
       "    <tr>\n",
       "      <th>23803</th>\n",
       "      <td>ecc9ab53ac5a897358b35118221ea367</td>\n",
       "      <td>Check out my interview with @AaronBerson ! I w...</td>\n",
       "      <td>5</td>\n",
       "      <td>0</td>\n",
       "      <td>5</td>\n",
       "      <td>low</td>\n",
       "      <td>[-0.07402989, 0.008327075, 0.0050209165, 0.041...</td>\n",
       "    </tr>\n",
       "    <tr>\n",
       "      <th>23804</th>\n",
       "      <td>ecc9ab53ac5a897358b35118221ea367</td>\n",
       "      <td>Check out my interview with @MikeMax32CPA abou...</td>\n",
       "      <td>3</td>\n",
       "      <td>0</td>\n",
       "      <td>3</td>\n",
       "      <td>low</td>\n",
       "      <td>[-0.03911017, 0.006784756, -0.011407444, 0.041...</td>\n",
       "    </tr>\n",
       "    <tr>\n",
       "      <th>23805</th>\n",
       "      <td>ecc9ab53ac5a897358b35118221ea367</td>\n",
       "      <td>Love!  #radicalcpa</td>\n",
       "      <td>76</td>\n",
       "      <td>3</td>\n",
       "      <td>79</td>\n",
       "      <td>low</td>\n",
       "      <td>[-0.066774145, -0.0118888905, 0.0026477212, -0...</td>\n",
       "    </tr>\n",
       "    <tr>\n",
       "      <th>23806</th>\n",
       "      <td>ecc9ab53ac5a897358b35118221ea367</td>\n",
       "      <td>Did you know next year is going to be the best...</td>\n",
       "      <td>1</td>\n",
       "      <td>0</td>\n",
       "      <td>1</td>\n",
       "      <td>low</td>\n",
       "      <td>[-0.07542419, 0.017530847, 0.023634866, -0.043...</td>\n",
       "    </tr>\n",
       "    <tr>\n",
       "      <th>23807</th>\n",
       "      <td>ecc9ab53ac5a897358b35118221ea367</td>\n",
       "      <td>Check out my interview with @dustinwCPA ! Tune...</td>\n",
       "      <td>9</td>\n",
       "      <td>0</td>\n",
       "      <td>9</td>\n",
       "      <td>low</td>\n",
       "      <td>[-0.05903422, -0.012805204, 0.0040334626, 0.08...</td>\n",
       "    </tr>\n",
       "  </tbody>\n",
       "</table>\n",
       "<p>22513 rows × 7 columns</p>\n",
       "</div>"
      ],
      "text/plain": [
       "                                anon_id  \\\n",
       "0      afb338bc4e80e811be481b27807934c5   \n",
       "1      afb338bc4e80e811be481b27807934c5   \n",
       "3      afb338bc4e80e811be481b27807934c5   \n",
       "4      afb338bc4e80e811be481b27807934c5   \n",
       "5      afb338bc4e80e811be481b27807934c5   \n",
       "...                                 ...   \n",
       "23803  ecc9ab53ac5a897358b35118221ea367   \n",
       "23804  ecc9ab53ac5a897358b35118221ea367   \n",
       "23805  ecc9ab53ac5a897358b35118221ea367   \n",
       "23806  ecc9ab53ac5a897358b35118221ea367   \n",
       "23807  ecc9ab53ac5a897358b35118221ea367   \n",
       "\n",
       "                                                 content  reactions  comments  \\\n",
       "0      Robert Lerman  writes that achieving a healthy...         12         1   \n",
       "1      National disability advocate  Sara Hart Weir, ...         11         0   \n",
       "3      Exploring in this months Talent Management & H...         44         0   \n",
       "4      I count myself fortunate to have spent time wi...         22         2   \n",
       "5      Online job platforms are a different way of wo...         21         1   \n",
       "...                                                  ...        ...       ...   \n",
       "23803  Check out my interview with @AaronBerson ! I w...          5         0   \n",
       "23804  Check out my interview with @MikeMax32CPA abou...          3         0   \n",
       "23805                                 Love!  #radicalcpa         76         3   \n",
       "23806  Did you know next year is going to be the best...          1         0   \n",
       "23807  Check out my interview with @dustinwCPA ! Tune...          9         0   \n",
       "\n",
       "       score engagement                                           features  \n",
       "0         13        low  [-0.011695226, 0.027859222, 0.036047406, -0.03...  \n",
       "1         11        low  [-0.026237344, -0.064887136, -0.0078637935, 0....  \n",
       "3         44        low  [-0.023109017, -0.020342512, 0.035548195, -0.0...  \n",
       "4         24        low  [-0.05438446, 0.0031936788, -0.06155947, 0.011...  \n",
       "5         22        low  [-0.068378255, -0.06278064, -0.010366013, -0.0...  \n",
       "...      ...        ...                                                ...  \n",
       "23803      5        low  [-0.07402989, 0.008327075, 0.0050209165, 0.041...  \n",
       "23804      3        low  [-0.03911017, 0.006784756, -0.011407444, 0.041...  \n",
       "23805     79        low  [-0.066774145, -0.0118888905, 0.0026477212, -0...  \n",
       "23806      1        low  [-0.07542419, 0.017530847, 0.023634866, -0.043...  \n",
       "23807      9        low  [-0.05903422, -0.012805204, 0.0040334626, 0.08...  \n",
       "\n",
       "[22513 rows x 7 columns]"
      ]
     },
     "execution_count": 5,
     "metadata": {},
     "output_type": "execute_result"
    }
   ],
   "source": [
    "df['features'] = list(model.encode(df['content'].tolist(), show_progress_bar=True))\n",
    "\n",
    "df"
   ]
  },
  {
   "cell_type": "code",
   "execution_count": 6,
   "id": "6c7f5194",
   "metadata": {},
   "outputs": [
    {
     "name": "stderr",
     "output_type": "stream",
     "text": [
      "/tmp/ipykernel_254499/3581441875.py:1: SettingWithCopyWarning: \n",
      "A value is trying to be set on a copy of a slice from a DataFrame.\n",
      "Try using .loc[row_indexer,col_indexer] = value instead\n",
      "\n",
      "See the caveats in the documentation: https://pandas.pydata.org/pandas-docs/stable/user_guide/indexing.html#returning-a-view-versus-a-copy\n",
      "  df['engagement'] = df['engagement'].map({'low': 0, 'high': 1})\n"
     ]
    }
   ],
   "source": [
    "df['engagement'] = df['engagement'].map({'low': 0, 'high': 1})"
   ]
  },
  {
   "cell_type": "code",
   "execution_count": 7,
   "id": "927fc37c",
   "metadata": {},
   "outputs": [],
   "source": [
    "labels = df['engagement'].to_numpy()\n",
    "data = np.array(df['features'].tolist())"
   ]
  },
  {
   "cell_type": "code",
   "execution_count": 8,
   "id": "ef88aadf",
   "metadata": {},
   "outputs": [],
   "source": [
    "kf = StratifiedKFold(n_splits=10, random_state=42, shuffle=True)\n",
    "\n",
    "def applyKfold(data, label, classifier):\n",
    "\n",
    "    accVet = []\n",
    "    f1Vet = []\n",
    "    f1MacroVet = []\n",
    "\n",
    "    for train_index, test_index in kf.split(data, label):\n",
    "        # particição dos dados em conjunto de treino / teste\n",
    "        data_train, data_test = data[train_index], data[test_index]\n",
    "        label_train, label_test = label[train_index], label[test_index]\n",
    "\n",
    "\n",
    "        # classificador\n",
    "        clf = classifier\n",
    "        clf.fit(data_train, label_train)\n",
    "\n",
    "        # predição\n",
    "        y_pred = clf.predict(data_test)\n",
    "\n",
    "        # avaliação\n",
    "        acc = accuracy_score(label_test, y_pred)\n",
    "        f1 = f1_score(label_test, y_pred)\n",
    "        f1_macro = f1_score(label_test, y_pred, average='macro')\n",
    "\n",
    "        accVet.append(acc)\n",
    "        f1Vet.append(f1)\n",
    "        f1MacroVet.append(f1_macro)\n",
    "\n",
    "\n",
    "    return (accVet, f1Vet, f1MacroVet)\n",
    "\n",
    "\n",
    "\n"
   ]
  },
  {
   "cell_type": "markdown",
   "id": "882ec543",
   "metadata": {},
   "source": [
    "\n",
    "---\n",
    "## Abordagem **Probabilística** - Naive Bayes"
   ]
  },
  {
   "cell_type": "code",
   "execution_count": 9,
   "id": "346d0baa",
   "metadata": {},
   "outputs": [
    {
     "name": "stdout",
     "output_type": "stream",
     "text": [
      "Accuracy Score:  0.6919\n",
      "F1 Score:  0.4346\n",
      "F1 Macro Score:  0.6114\n"
     ]
    }
   ],
   "source": [
    "acc, f1, f1Macro = applyKfold(data, labels, GaussianNB())\n",
    "print(\"Accuracy Score: \", round(np.mean(acc), 4))\n",
    "print(\"F1 Score: \", round(np.mean(f1), 4))\n",
    "print(\"F1 Macro Score: \", round(np.mean(f1Macro), 4))"
   ]
  },
  {
   "cell_type": "markdown",
   "id": "229a9aad",
   "metadata": {},
   "source": [
    "\n",
    "---\n",
    "## Abordagem **Simbólica** - Decision Tree"
   ]
  },
  {
   "cell_type": "code",
   "execution_count": 10,
   "id": "3c79bc0a",
   "metadata": {},
   "outputs": [
    {
     "name": "stdout",
     "output_type": "stream",
     "text": [
      "Accuracy Score:  0.6989\n",
      "F1 Score:  0.3224\n",
      "F1 Macro Score:  0.5644\n"
     ]
    }
   ],
   "source": [
    "acc, f1, f1Macro = applyKfold(data, labels, DecisionTreeClassifier(criterion='entropy'))\n",
    "print(\"Accuracy Score: \", round(np.mean(acc), 4))\n",
    "print(\"F1 Score: \", round(np.mean(f1), 4))\n",
    "print(\"F1 Macro Score: \", round(np.mean(f1Macro), 4))"
   ]
  },
  {
   "cell_type": "markdown",
   "id": "a7a8db99",
   "metadata": {},
   "source": [
    "\n",
    "---\n",
    "## Abordagem **Conexionista** - Multilayer Perceptron"
   ]
  },
  {
   "cell_type": "code",
   "execution_count": 86,
   "id": "707395af",
   "metadata": {},
   "outputs": [
    {
     "name": "stderr",
     "output_type": "stream",
     "text": [
      "/home/thzero/Documentos/Disciplinas/IA/IA/lib/python3.12/site-packages/keras/src/layers/core/dense.py:93: UserWarning: Do not pass an `input_shape`/`input_dim` argument to a layer. When using Sequential models, prefer using an `Input(shape)` object as the first layer in the model instead.\n",
      "  super().__init__(activity_regularizer=activity_regularizer, **kwargs)\n"
     ]
    },
    {
     "data": {
      "text/html": [
       "<pre style=\"white-space:pre;overflow-x:auto;line-height:normal;font-family:Menlo,'DejaVu Sans Mono',consolas,'Courier New',monospace\"><span style=\"font-weight: bold\">Model: \"sequential_22\"</span>\n",
       "</pre>\n"
      ],
      "text/plain": [
       "\u001b[1mModel: \"sequential_22\"\u001b[0m\n"
      ]
     },
     "metadata": {},
     "output_type": "display_data"
    },
    {
     "data": {
      "text/html": [
       "<pre style=\"white-space:pre;overflow-x:auto;line-height:normal;font-family:Menlo,'DejaVu Sans Mono',consolas,'Courier New',monospace\">┏━━━━━━━━━━━━━━━━━━━━━━━━━━━━━━━━━┳━━━━━━━━━━━━━━━━━━━━━━━━┳━━━━━━━━━━━━━━━┓\n",
       "┃<span style=\"font-weight: bold\"> Layer (type)                    </span>┃<span style=\"font-weight: bold\"> Output Shape           </span>┃<span style=\"font-weight: bold\">       Param # </span>┃\n",
       "┡━━━━━━━━━━━━━━━━━━━━━━━━━━━━━━━━━╇━━━━━━━━━━━━━━━━━━━━━━━━╇━━━━━━━━━━━━━━━┩\n",
       "│ dense_79 (<span style=\"color: #0087ff; text-decoration-color: #0087ff\">Dense</span>)                │ (<span style=\"color: #00d7ff; text-decoration-color: #00d7ff\">None</span>, <span style=\"color: #00af00; text-decoration-color: #00af00\">32</span>)             │        <span style=\"color: #00af00; text-decoration-color: #00af00\">12,320</span> │\n",
       "├─────────────────────────────────┼────────────────────────┼───────────────┤\n",
       "│ dropout_27 (<span style=\"color: #0087ff; text-decoration-color: #0087ff\">Dropout</span>)            │ (<span style=\"color: #00d7ff; text-decoration-color: #00d7ff\">None</span>, <span style=\"color: #00af00; text-decoration-color: #00af00\">32</span>)             │             <span style=\"color: #00af00; text-decoration-color: #00af00\">0</span> │\n",
       "├─────────────────────────────────┼────────────────────────┼───────────────┤\n",
       "│ dense_80 (<span style=\"color: #0087ff; text-decoration-color: #0087ff\">Dense</span>)                │ (<span style=\"color: #00d7ff; text-decoration-color: #00d7ff\">None</span>, <span style=\"color: #00af00; text-decoration-color: #00af00\">16</span>)             │           <span style=\"color: #00af00; text-decoration-color: #00af00\">528</span> │\n",
       "├─────────────────────────────────┼────────────────────────┼───────────────┤\n",
       "│ dropout_28 (<span style=\"color: #0087ff; text-decoration-color: #0087ff\">Dropout</span>)            │ (<span style=\"color: #00d7ff; text-decoration-color: #00d7ff\">None</span>, <span style=\"color: #00af00; text-decoration-color: #00af00\">16</span>)             │             <span style=\"color: #00af00; text-decoration-color: #00af00\">0</span> │\n",
       "├─────────────────────────────────┼────────────────────────┼───────────────┤\n",
       "│ dense_81 (<span style=\"color: #0087ff; text-decoration-color: #0087ff\">Dense</span>)                │ (<span style=\"color: #00d7ff; text-decoration-color: #00d7ff\">None</span>, <span style=\"color: #00af00; text-decoration-color: #00af00\">1</span>)              │            <span style=\"color: #00af00; text-decoration-color: #00af00\">17</span> │\n",
       "└─────────────────────────────────┴────────────────────────┴───────────────┘\n",
       "</pre>\n"
      ],
      "text/plain": [
       "┏━━━━━━━━━━━━━━━━━━━━━━━━━━━━━━━━━┳━━━━━━━━━━━━━━━━━━━━━━━━┳━━━━━━━━━━━━━━━┓\n",
       "┃\u001b[1m \u001b[0m\u001b[1mLayer (type)                   \u001b[0m\u001b[1m \u001b[0m┃\u001b[1m \u001b[0m\u001b[1mOutput Shape          \u001b[0m\u001b[1m \u001b[0m┃\u001b[1m \u001b[0m\u001b[1m      Param #\u001b[0m\u001b[1m \u001b[0m┃\n",
       "┡━━━━━━━━━━━━━━━━━━━━━━━━━━━━━━━━━╇━━━━━━━━━━━━━━━━━━━━━━━━╇━━━━━━━━━━━━━━━┩\n",
       "│ dense_79 (\u001b[38;5;33mDense\u001b[0m)                │ (\u001b[38;5;45mNone\u001b[0m, \u001b[38;5;34m32\u001b[0m)             │        \u001b[38;5;34m12,320\u001b[0m │\n",
       "├─────────────────────────────────┼────────────────────────┼───────────────┤\n",
       "│ dropout_27 (\u001b[38;5;33mDropout\u001b[0m)            │ (\u001b[38;5;45mNone\u001b[0m, \u001b[38;5;34m32\u001b[0m)             │             \u001b[38;5;34m0\u001b[0m │\n",
       "├─────────────────────────────────┼────────────────────────┼───────────────┤\n",
       "│ dense_80 (\u001b[38;5;33mDense\u001b[0m)                │ (\u001b[38;5;45mNone\u001b[0m, \u001b[38;5;34m16\u001b[0m)             │           \u001b[38;5;34m528\u001b[0m │\n",
       "├─────────────────────────────────┼────────────────────────┼───────────────┤\n",
       "│ dropout_28 (\u001b[38;5;33mDropout\u001b[0m)            │ (\u001b[38;5;45mNone\u001b[0m, \u001b[38;5;34m16\u001b[0m)             │             \u001b[38;5;34m0\u001b[0m │\n",
       "├─────────────────────────────────┼────────────────────────┼───────────────┤\n",
       "│ dense_81 (\u001b[38;5;33mDense\u001b[0m)                │ (\u001b[38;5;45mNone\u001b[0m, \u001b[38;5;34m1\u001b[0m)              │            \u001b[38;5;34m17\u001b[0m │\n",
       "└─────────────────────────────────┴────────────────────────┴───────────────┘\n"
      ]
     },
     "metadata": {},
     "output_type": "display_data"
    },
    {
     "data": {
      "text/html": [
       "<pre style=\"white-space:pre;overflow-x:auto;line-height:normal;font-family:Menlo,'DejaVu Sans Mono',consolas,'Courier New',monospace\"><span style=\"font-weight: bold\"> Total params: </span><span style=\"color: #00af00; text-decoration-color: #00af00\">12,865</span> (50.25 KB)\n",
       "</pre>\n"
      ],
      "text/plain": [
       "\u001b[1m Total params: \u001b[0m\u001b[38;5;34m12,865\u001b[0m (50.25 KB)\n"
      ]
     },
     "metadata": {},
     "output_type": "display_data"
    },
    {
     "data": {
      "text/html": [
       "<pre style=\"white-space:pre;overflow-x:auto;line-height:normal;font-family:Menlo,'DejaVu Sans Mono',consolas,'Courier New',monospace\"><span style=\"font-weight: bold\"> Trainable params: </span><span style=\"color: #00af00; text-decoration-color: #00af00\">12,865</span> (50.25 KB)\n",
       "</pre>\n"
      ],
      "text/plain": [
       "\u001b[1m Trainable params: \u001b[0m\u001b[38;5;34m12,865\u001b[0m (50.25 KB)\n"
      ]
     },
     "metadata": {},
     "output_type": "display_data"
    },
    {
     "data": {
      "text/html": [
       "<pre style=\"white-space:pre;overflow-x:auto;line-height:normal;font-family:Menlo,'DejaVu Sans Mono',consolas,'Courier New',monospace\"><span style=\"font-weight: bold\"> Non-trainable params: </span><span style=\"color: #00af00; text-decoration-color: #00af00\">0</span> (0.00 B)\n",
       "</pre>\n"
      ],
      "text/plain": [
       "\u001b[1m Non-trainable params: \u001b[0m\u001b[38;5;34m0\u001b[0m (0.00 B)\n"
      ]
     },
     "metadata": {},
     "output_type": "display_data"
    }
   ],
   "source": [
    "# MLP (com regularização e early stopping)\n",
    "value_1 = 32\n",
    "value_2 = 16\n",
    "value_3 = 2\n",
    "\n",
    "mlp = Sequential()\n",
    "mlp.add(Dense(value_1, input_shape=(data.shape[1],), activation='tanh'))\n",
    "mlp.add(Dropout(0.1))\n",
    "mlp.add(Dense(value_2, input_shape=(data.shape[1],), activation='tanh'))\n",
    "mlp.add(Dropout(0.1))\n",
    "mlp.add(Dense(1, input_shape=(data.shape[1],), activation='sigmoid'))\n",
    "\n",
    "mlp.compile(loss='binary_crossentropy', optimizer='adam', metrics=['accuracy'])\n",
    "mlp.summary()"
   ]
  },
  {
   "cell_type": "code",
   "execution_count": 87,
   "id": "4ff10136",
   "metadata": {},
   "outputs": [
    {
     "name": "stdout",
     "output_type": "stream",
     "text": [
      "Epoch 1/1000\n",
      "\u001b[1m451/451\u001b[0m \u001b[32m━━━━━━━━━━━━━━━━━━━━\u001b[0m\u001b[37m\u001b[0m \u001b[1m2s\u001b[0m 3ms/step - accuracy: 0.7795 - loss: 0.5169 - val_accuracy: 0.7934 - val_loss: 0.4687\n",
      "Epoch 2/1000\n",
      "\u001b[1m451/451\u001b[0m \u001b[32m━━━━━━━━━━━━━━━━━━━━\u001b[0m\u001b[37m\u001b[0m \u001b[1m2s\u001b[0m 4ms/step - accuracy: 0.8010 - loss: 0.4564 - val_accuracy: 0.7946 - val_loss: 0.4647\n",
      "Epoch 3/1000\n",
      "\u001b[1m451/451\u001b[0m \u001b[32m━━━━━━━━━━━━━━━━━━━━\u001b[0m\u001b[37m\u001b[0m \u001b[1m2s\u001b[0m 4ms/step - accuracy: 0.8057 - loss: 0.4417 - val_accuracy: 0.7982 - val_loss: 0.4618\n",
      "Epoch 4/1000\n",
      "\u001b[1m451/451\u001b[0m \u001b[32m━━━━━━━━━━━━━━━━━━━━\u001b[0m\u001b[37m\u001b[0m \u001b[1m1s\u001b[0m 3ms/step - accuracy: 0.8119 - loss: 0.4388 - val_accuracy: 0.7993 - val_loss: 0.4584\n",
      "Epoch 5/1000\n",
      "\u001b[1m451/451\u001b[0m \u001b[32m━━━━━━━━━━━━━━━━━━━━\u001b[0m\u001b[37m\u001b[0m \u001b[1m1s\u001b[0m 3ms/step - accuracy: 0.8058 - loss: 0.4452 - val_accuracy: 0.7982 - val_loss: 0.4593\n",
      "Epoch 6/1000\n",
      "\u001b[1m451/451\u001b[0m \u001b[32m━━━━━━━━━━━━━━━━━━━━\u001b[0m\u001b[37m\u001b[0m \u001b[1m1s\u001b[0m 3ms/step - accuracy: 0.8133 - loss: 0.4374 - val_accuracy: 0.7993 - val_loss: 0.4592\n",
      "Epoch 7/1000\n",
      "\u001b[1m451/451\u001b[0m \u001b[32m━━━━━━━━━━━━━━━━━━━━\u001b[0m\u001b[37m\u001b[0m \u001b[1m2s\u001b[0m 4ms/step - accuracy: 0.8140 - loss: 0.4356 - val_accuracy: 0.8018 - val_loss: 0.4571\n",
      "Epoch 8/1000\n",
      "\u001b[1m451/451\u001b[0m \u001b[32m━━━━━━━━━━━━━━━━━━━━\u001b[0m\u001b[37m\u001b[0m \u001b[1m2s\u001b[0m 3ms/step - accuracy: 0.8122 - loss: 0.4358 - val_accuracy: 0.7990 - val_loss: 0.4577\n",
      "Epoch 9/1000\n",
      "\u001b[1m451/451\u001b[0m \u001b[32m━━━━━━━━━━━━━━━━━━━━\u001b[0m\u001b[37m\u001b[0m \u001b[1m2s\u001b[0m 4ms/step - accuracy: 0.8083 - loss: 0.4343 - val_accuracy: 0.8029 - val_loss: 0.4557\n",
      "Epoch 10/1000\n",
      "\u001b[1m451/451\u001b[0m \u001b[32m━━━━━━━━━━━━━━━━━━━━\u001b[0m\u001b[37m\u001b[0m \u001b[1m2s\u001b[0m 4ms/step - accuracy: 0.8082 - loss: 0.4418 - val_accuracy: 0.8012 - val_loss: 0.4564\n",
      "Epoch 11/1000\n",
      "\u001b[1m451/451\u001b[0m \u001b[32m━━━━━━━━━━━━━━━━━━━━\u001b[0m\u001b[37m\u001b[0m \u001b[1m2s\u001b[0m 3ms/step - accuracy: 0.8076 - loss: 0.4394 - val_accuracy: 0.8032 - val_loss: 0.4561\n",
      "Epoch 12/1000\n",
      "\u001b[1m451/451\u001b[0m \u001b[32m━━━━━━━━━━━━━━━━━━━━\u001b[0m\u001b[37m\u001b[0m \u001b[1m1s\u001b[0m 3ms/step - accuracy: 0.8096 - loss: 0.4319 - val_accuracy: 0.8018 - val_loss: 0.4560\n",
      "Epoch 13/1000\n",
      "\u001b[1m451/451\u001b[0m \u001b[32m━━━━━━━━━━━━━━━━━━━━\u001b[0m\u001b[37m\u001b[0m \u001b[1m1s\u001b[0m 3ms/step - accuracy: 0.8116 - loss: 0.4354 - val_accuracy: 0.8026 - val_loss: 0.4541\n",
      "Epoch 14/1000\n",
      "\u001b[1m451/451\u001b[0m \u001b[32m━━━━━━━━━━━━━━━━━━━━\u001b[0m\u001b[37m\u001b[0m \u001b[1m1s\u001b[0m 3ms/step - accuracy: 0.8084 - loss: 0.4351 - val_accuracy: 0.7993 - val_loss: 0.4559\n",
      "Epoch 15/1000\n",
      "\u001b[1m451/451\u001b[0m \u001b[32m━━━━━━━━━━━━━━━━━━━━\u001b[0m\u001b[37m\u001b[0m \u001b[1m2s\u001b[0m 4ms/step - accuracy: 0.8065 - loss: 0.4377 - val_accuracy: 0.8043 - val_loss: 0.4543\n",
      "Epoch 16/1000\n",
      "\u001b[1m451/451\u001b[0m \u001b[32m━━━━━━━━━━━━━━━━━━━━\u001b[0m\u001b[37m\u001b[0m \u001b[1m2s\u001b[0m 4ms/step - accuracy: 0.8114 - loss: 0.4292 - val_accuracy: 0.8023 - val_loss: 0.4576\n",
      "Epoch 17/1000\n",
      "\u001b[1m451/451\u001b[0m \u001b[32m━━━━━━━━━━━━━━━━━━━━\u001b[0m\u001b[37m\u001b[0m \u001b[1m1s\u001b[0m 3ms/step - accuracy: 0.8103 - loss: 0.4351 - val_accuracy: 0.8032 - val_loss: 0.4553\n",
      "Epoch 18/1000\n",
      "\u001b[1m451/451\u001b[0m \u001b[32m━━━━━━━━━━━━━━━━━━━━\u001b[0m\u001b[37m\u001b[0m \u001b[1m2s\u001b[0m 4ms/step - accuracy: 0.8087 - loss: 0.4331 - val_accuracy: 0.8059 - val_loss: 0.4516\n",
      "Epoch 19/1000\n",
      "\u001b[1m451/451\u001b[0m \u001b[32m━━━━━━━━━━━━━━━━━━━━\u001b[0m\u001b[37m\u001b[0m \u001b[1m2s\u001b[0m 4ms/step - accuracy: 0.8140 - loss: 0.4268 - val_accuracy: 0.8037 - val_loss: 0.4506\n",
      "Epoch 20/1000\n",
      "\u001b[1m451/451\u001b[0m \u001b[32m━━━━━━━━━━━━━━━━━━━━\u001b[0m\u001b[37m\u001b[0m \u001b[1m1s\u001b[0m 3ms/step - accuracy: 0.8074 - loss: 0.4341 - val_accuracy: 0.8048 - val_loss: 0.4508\n",
      "Epoch 21/1000\n",
      "\u001b[1m451/451\u001b[0m \u001b[32m━━━━━━━━━━━━━━━━━━━━\u001b[0m\u001b[37m\u001b[0m \u001b[1m1s\u001b[0m 2ms/step - accuracy: 0.8157 - loss: 0.4228 - val_accuracy: 0.8068 - val_loss: 0.4477\n",
      "Epoch 22/1000\n",
      "\u001b[1m451/451\u001b[0m \u001b[32m━━━━━━━━━━━━━━━━━━━━\u001b[0m\u001b[37m\u001b[0m \u001b[1m1s\u001b[0m 3ms/step - accuracy: 0.8114 - loss: 0.4248 - val_accuracy: 0.8068 - val_loss: 0.4492\n",
      "Epoch 23/1000\n",
      "\u001b[1m451/451\u001b[0m \u001b[32m━━━━━━━━━━━━━━━━━━━━\u001b[0m\u001b[37m\u001b[0m \u001b[1m2s\u001b[0m 4ms/step - accuracy: 0.8152 - loss: 0.4145 - val_accuracy: 0.8068 - val_loss: 0.4473\n",
      "Epoch 24/1000\n",
      "\u001b[1m451/451\u001b[0m \u001b[32m━━━━━━━━━━━━━━━━━━━━\u001b[0m\u001b[37m\u001b[0m \u001b[1m2s\u001b[0m 4ms/step - accuracy: 0.8152 - loss: 0.4212 - val_accuracy: 0.8068 - val_loss: 0.4472\n",
      "Epoch 25/1000\n",
      "\u001b[1m451/451\u001b[0m \u001b[32m━━━━━━━━━━━━━━━━━━━━\u001b[0m\u001b[37m\u001b[0m \u001b[1m1s\u001b[0m 3ms/step - accuracy: 0.8172 - loss: 0.4154 - val_accuracy: 0.8068 - val_loss: 0.4480\n",
      "Epoch 26/1000\n",
      "\u001b[1m451/451\u001b[0m \u001b[32m━━━━━━━━━━━━━━━━━━━━\u001b[0m\u001b[37m\u001b[0m \u001b[1m2s\u001b[0m 4ms/step - accuracy: 0.8204 - loss: 0.4060 - val_accuracy: 0.8057 - val_loss: 0.4468\n",
      "Epoch 27/1000\n",
      "\u001b[1m451/451\u001b[0m \u001b[32m━━━━━━━━━━━━━━━━━━━━\u001b[0m\u001b[37m\u001b[0m \u001b[1m1s\u001b[0m 2ms/step - accuracy: 0.8129 - loss: 0.4189 - val_accuracy: 0.8059 - val_loss: 0.4430\n",
      "Epoch 28/1000\n",
      "\u001b[1m451/451\u001b[0m \u001b[32m━━━━━━━━━━━━━━━━━━━━\u001b[0m\u001b[37m\u001b[0m \u001b[1m2s\u001b[0m 4ms/step - accuracy: 0.8196 - loss: 0.4090 - val_accuracy: 0.8082 - val_loss: 0.4455\n",
      "Epoch 29/1000\n",
      "\u001b[1m451/451\u001b[0m \u001b[32m━━━━━━━━━━━━━━━━━━━━\u001b[0m\u001b[37m\u001b[0m \u001b[1m2s\u001b[0m 4ms/step - accuracy: 0.8230 - loss: 0.4018 - val_accuracy: 0.8082 - val_loss: 0.4434\n",
      "Epoch 30/1000\n",
      "\u001b[1m451/451\u001b[0m \u001b[32m━━━━━━━━━━━━━━━━━━━━\u001b[0m\u001b[37m\u001b[0m \u001b[1m1s\u001b[0m 3ms/step - accuracy: 0.8224 - loss: 0.4052 - val_accuracy: 0.8090 - val_loss: 0.4463\n",
      "Epoch 31/1000\n",
      "\u001b[1m451/451\u001b[0m \u001b[32m━━━━━━━━━━━━━━━━━━━━\u001b[0m\u001b[37m\u001b[0m \u001b[1m1s\u001b[0m 2ms/step - accuracy: 0.8224 - loss: 0.3986 - val_accuracy: 0.8076 - val_loss: 0.4429\n",
      "Epoch 32/1000\n",
      "\u001b[1m451/451\u001b[0m \u001b[32m━━━━━━━━━━━━━━━━━━━━\u001b[0m\u001b[37m\u001b[0m \u001b[1m2s\u001b[0m 4ms/step - accuracy: 0.8224 - loss: 0.4017 - val_accuracy: 0.8082 - val_loss: 0.4456\n",
      "Epoch 33/1000\n",
      "\u001b[1m451/451\u001b[0m \u001b[32m━━━━━━━━━━━━━━━━━━━━\u001b[0m\u001b[37m\u001b[0m \u001b[1m2s\u001b[0m 4ms/step - accuracy: 0.8231 - loss: 0.4064 - val_accuracy: 0.8084 - val_loss: 0.4449\n",
      "Epoch 34/1000\n",
      "\u001b[1m451/451\u001b[0m \u001b[32m━━━━━━━━━━━━━━━━━━━━\u001b[0m\u001b[37m\u001b[0m \u001b[1m2s\u001b[0m 4ms/step - accuracy: 0.8256 - loss: 0.4002 - val_accuracy: 0.8054 - val_loss: 0.4449\n",
      "Epoch 35/1000\n",
      "\u001b[1m451/451\u001b[0m \u001b[32m━━━━━━━━━━━━━━━━━━━━\u001b[0m\u001b[37m\u001b[0m \u001b[1m2s\u001b[0m 4ms/step - accuracy: 0.8278 - loss: 0.3945 - val_accuracy: 0.8068 - val_loss: 0.4445\n",
      "Epoch 36/1000\n",
      "\u001b[1m451/451\u001b[0m \u001b[32m━━━━━━━━━━━━━━━━━━━━\u001b[0m\u001b[37m\u001b[0m \u001b[1m2s\u001b[0m 4ms/step - accuracy: 0.8277 - loss: 0.3924 - val_accuracy: 0.8057 - val_loss: 0.4488\n",
      "Epoch 37/1000\n",
      "\u001b[1m451/451\u001b[0m \u001b[32m━━━━━━━━━━━━━━━━━━━━\u001b[0m\u001b[37m\u001b[0m \u001b[1m2s\u001b[0m 4ms/step - accuracy: 0.8292 - loss: 0.3922 - val_accuracy: 0.8062 - val_loss: 0.4472\n",
      "Epoch 38/1000\n",
      "\u001b[1m451/451\u001b[0m \u001b[32m━━━━━━━━━━━━━━━━━━━━\u001b[0m\u001b[37m\u001b[0m \u001b[1m2s\u001b[0m 4ms/step - accuracy: 0.8310 - loss: 0.3903 - val_accuracy: 0.8048 - val_loss: 0.4459\n",
      "Epoch 39/1000\n",
      "\u001b[1m451/451\u001b[0m \u001b[32m━━━━━━━━━━━━━━━━━━━━\u001b[0m\u001b[37m\u001b[0m \u001b[1m1s\u001b[0m 3ms/step - accuracy: 0.8242 - loss: 0.3967 - val_accuracy: 0.8076 - val_loss: 0.4477\n",
      "Epoch 40/1000\n",
      "\u001b[1m451/451\u001b[0m \u001b[32m━━━━━━━━━━━━━━━━━━━━\u001b[0m\u001b[37m\u001b[0m \u001b[1m2s\u001b[0m 5ms/step - accuracy: 0.8271 - loss: 0.3964 - val_accuracy: 0.8068 - val_loss: 0.4510\n",
      "Epoch 41/1000\n",
      "\u001b[1m451/451\u001b[0m \u001b[32m━━━━━━━━━━━━━━━━━━━━\u001b[0m\u001b[37m\u001b[0m \u001b[1m2s\u001b[0m 4ms/step - accuracy: 0.8329 - loss: 0.3854 - val_accuracy: 0.8065 - val_loss: 0.4499\n"
     ]
    }
   ],
   "source": [
    "early_stop = EarlyStopping(monitor='val_loss', patience=10, restore_best_weights=True)\n",
    "X_train, X_test, y_train, y_test = train_test_split(data, labels, test_size=0.2, stratify=labels, random_state=42)\n",
    "\n",
    "history = mlp.fit(\n",
    "    X_train,\n",
    "    y_train,\n",
    "    epochs=1000,\n",
    "    validation_split=0.2,\n",
    "    callbacks=[early_stop],\n",
    "    verbose=1\n",
    ")"
   ]
  },
  {
   "cell_type": "code",
   "execution_count": 88,
   "id": "abbbefea",
   "metadata": {},
   "outputs": [
    {
     "data": {
      "image/png": "[encoded data removed]",
      "text/plain": [
       "<Figure size 640x480 with 1 Axes>"
      ]
     },
     "metadata": {},
     "output_type": "display_data"
    }
   ],
   "source": [
    "# Plotando curva de aprendizado\n",
    "plt.plot(history.history['accuracy'], label='Treino')\n",
    "plt.plot(history.history['val_accuracy'], label='Validação')\n",
    "plt.xlabel('Épocas')\n",
    "plt.ylabel('Acurácia')\n",
    "plt.legend()\n",
    "plt.title(\"Curva de Aprendizado\")\n",
    "plt.show()"
   ]
  },
  {
   "cell_type": "code",
   "execution_count": 89,
   "id": "9e727254",
   "metadata": {},
   "outputs": [
    {
     "name": "stdout",
     "output_type": "stream",
     "text": [
      "\u001b[1m141/141\u001b[0m \u001b[32m━━━━━━━━━━━━━━━━━━━━\u001b[0m\u001b[37m\u001b[0m \u001b[1m0s\u001b[0m 2ms/step - accuracy: 0.8157 - loss: 0.4240\n",
      "[MLP] Acurácia no teste final: 0.8095, Loss: 0.4292\n"
     ]
    }
   ],
   "source": [
    "# Avaliar no conjunto de teste\n",
    "test_loss, test_acc = mlp.evaluate(X_test, y_test, verbose=1)\n",
    "print(f\"[MLP] Acurácia no teste final: {test_acc:.4f}, Loss: {test_loss:.4f}\")"
   ]
  },
  {
   "cell_type": "markdown",
   "id": "2fb28a9e",
   "metadata": {},
   "source": [
    "\n",
    "---\n",
    "## Abordagem **Estatística** - SVC"
   ]
  },
  {
   "cell_type": "code",
   "execution_count": null,
   "id": "d0d037a7",
   "metadata": {},
   "outputs": [
    {
     "name": "stderr",
     "output_type": "stream",
     "text": [
      "/home/thzero/Documentos/Disciplinas/IA/IA/lib/python3.12/site-packages/sklearn/svm/_base.py:305: ConvergenceWarning: Solver terminated early (max_iter=10000).  Consider pre-processing your data with StandardScaler or MinMaxScaler.\n",
      "  warnings.warn(\n"
     ]
    },
    {
     "name": "stdout",
     "output_type": "stream",
     "text": [
      "Accuracy Score: 0.8299\n",
      "F1 Score: 0.5352\n",
      "F1 Macro Score: 0.7155\n"
     ]
    }
   ],
   "source": [
    "X_train, X_test, y_train, y_test = train_test_split(data, labels, test_size=0.2, stratify=labels, random_state=42)\n",
    "\n",
    "scaler = StandardScaler()\n",
    "X_train_scaled = scaler.fit_transform(X_train)\n",
    "X_test_scaled = scaler.transform(X_test)\n",
    "\n",
    "# classificador\n",
    "clf_svc = SVC(kernel=\"rbf\", C=10, gamma='scale', max_iter=10000)\n",
    "clf_svc.fit(X_train_scaled, y_train)\n",
    "\n",
    "# predição\n",
    "y_pred = clf_svc.predict(X_test_scaled)\n",
    "\n",
    "# avaliação\n",
    "acc = accuracy_score(y_test, y_pred)\n",
    "f1 = f1_score(y_test, y_pred)\n",
    "f1_macro = f1_score(y_test, y_pred, average='macro')\n",
    "\n",
    "print(\"Accuracy Score:\", round(acc, 4))\n",
    "print(\"F1 Score:\", round(f1, 4))\n",
    "print(\"F1 Macro Score:\", round(f1_macro, 4))"
   ]
  }
 ],
 "metadata": {
  "kernelspec": {
   "display_name": "IA",
   "language": "python",
   "name": "python3"
  },
  "language_info": {
   "codemirror_mode": {
    "name": "ipython",
    "version": 3
   },
   "file_extension": ".py",
   "mimetype": "text/x-python",
   "name": "python",
   "nbconvert_exporter": "python",
   "pygments_lexer": "ipython3",
   "version": "3.12.3"
  }
 },
 "nbformat": 4,
 "nbformat_minor": 5
}
