{
 "cells": [
  {
   "cell_type": "markdown",
   "id": "305be942",
   "metadata": {},
   "source": [
    "\n",
    "---\n",
    "\n",
    "## **Atividade 1 — Classificação Supervisionada**\n",
    "\n",
    "Nesta atividade, você deve **comparar quatro diferentes paradigmas de aprendizado de máquina**: probabilísticos, simbólicos, conexionistas e estatísticos.\n",
    "\n",
    "> **Importante:** Durante a **etapa de inferência**, o modelo **só poderá utilizar o conteúdo textual** (`content`) do post para prever o engajamento. Informações como `reactions` e `comments` devem ser utilizadas apenas na etapa de treinamento, se desejar, mas não podem ser usadas como entrada no momento da predição de novos posts (eles não estarão disponíveis em inferência).\n",
    "\n",
    "Para avaliação, será disponibilizado um arquivo de teste contendo **novas postagens sem o rótulo de engajamento**, e cada aluno deverá submeter suas **previsões finais de engajamento** para essas novas entradas."
   ]
  },
  {
   "cell_type": "code",
   "execution_count": null,
   "id": "d8e61857",
   "metadata": {},
   "outputs": [],
   "source": [
    "!gdown 1csTzz_UWpe89KYh11qj_V7fDssTv2FFO\n",
    "!gdown 1KlZGlcUEVgVVvxV0l4vYwQ1g1pgmsYio"
   ]
  },
  {
   "cell_type": "code",
   "execution_count": null,
   "id": "14f83f8a",
   "metadata": {},
   "outputs": [],
   "source": [
    "import matplotlib.pyplot as plt\n",
    "import numpy as np\n",
    "import pandas as pd\n",
    "\n",
    "from sklearn.model_selection import StratifiedKFold\n",
    "from sklearn.model_selection import train_test_split\n",
    "from sklearn.preprocessing import StandardScaler\n",
    "\n",
    "from keras.models import Sequential\n",
    "from keras.layers import Dense, Dropout\n",
    "from keras.callbacks import EarlyStopping\n",
    "#from sklearn.neural_network import MLPClassifier\n",
    "from sklearn.tree import DecisionTreeClassifier\n",
    "from sklearn.svm import SVC\n",
    "from sklearn.naive_bayes import GaussianNB\n"
   ]
  },
  {
   "cell_type": "code",
   "execution_count": null,
   "id": "0954b547",
   "metadata": {},
   "outputs": [],
   "source": [
    "df = pd.read_csv('df_social_data_train.csv')\n",
    "df_teste = pd.read_csv('df_social_data_test.csv')\n",
    "df"
   ]
  },
  {
   "cell_type": "code",
   "execution_count": null,
   "id": "4c11ac2b",
   "metadata": {},
   "outputs": [],
   "source": [
    "df_teste"
   ]
  },
  {
   "cell_type": "markdown",
   "id": "4bcc4194",
   "metadata": {},
   "source": [
    "### Um pequeno pré-processamento dos dados para utilizarmos com os modelos que virão"
   ]
  },
  {
   "cell_type": "code",
   "execution_count": null,
   "id": "a21ee97a",
   "metadata": {},
   "outputs": [],
   "source": [
    "# pre-processar e extrair caracteristicas dos dados para construir a tabela atributo-valor\n",
    "from sentence_transformers import SentenceTransformer\n",
    "\n",
    "# 1. Load a pretrained Sentence Transformer model\n",
    "model = SentenceTransformer(\"all-MiniLM-L6-v2\")"
   ]
  },
  {
   "cell_type": "code",
   "execution_count": null,
   "id": "b5d87b2a",
   "metadata": {},
   "outputs": [],
   "source": [
    "df = df.dropna()\n",
    "df['features'] = list(model.encode(df['content'].tolist(), show_progress_bar=True))\n",
    "df"
   ]
  },
  {
   "cell_type": "code",
   "execution_count": null,
   "id": "6c7f5194",
   "metadata": {},
   "outputs": [],
   "source": [
    "# Trocamos o label para '0' (low) ou '1' (high) --> Bibliotecas trabalham melhor com labels numéricas\n",
    "df['engagement'] = df['engagement'].map({'low': 0, 'high': 1})"
   ]
  },
  {
   "cell_type": "code",
   "execution_count": null,
   "id": "927fc37c",
   "metadata": {},
   "outputs": [],
   "source": [
    "# Separação dos dados e labels\n",
    "labels = df['engagement'].to_numpy()\n",
    "data = np.array(df['features'].tolist())"
   ]
  },
  {
   "cell_type": "markdown",
   "id": "6f11060a",
   "metadata": {},
   "source": [
    "Criação de uma função KFold para melhor validação dos resultados de classificação\n",
    "- Alguns modelos demoram muito para processar, por isso o parâmetro 'k' é baixo em alguns testes"
   ]
  },
  {
   "cell_type": "code",
   "execution_count": null,
   "id": "ef88aadf",
   "metadata": {},
   "outputs": [],
   "source": [
    "from sklearn.metrics import accuracy_score, f1_score, classification_report\n",
    "\n",
    "'''\n",
    "    data --> features\n",
    "    label --> 0 (low) ou 1 (high)\n",
    "    k --> número de iterações do KFold\n",
    "    classifier --> modelo de classificação que estamos usando\n",
    "'''\n",
    "def applyKfold(data, label, k, classifier):\n",
    "\n",
    "    kf = StratifiedKFold(n_splits=k, random_state=42, shuffle=True)\n",
    "    accVet = []\n",
    "    f1Vet = []\n",
    "    f1MacroVet = []\n",
    "\n",
    "    # To store all true and predicted labels\n",
    "    all_y_true = []\n",
    "    all_y_pred = []\n",
    "\n",
    "    for train_index, test_index in kf.split(data, label):\n",
    "        # Split data\n",
    "        data_train, data_test = data[train_index], data[test_index]\n",
    "        label_train, label_test = label[train_index], label[test_index]\n",
    "\n",
    "        # Train classifier\n",
    "        clf = classifier\n",
    "        clf.fit(data_train, label_train)\n",
    "\n",
    "        # Predict\n",
    "        y_pred = clf.predict(data_test)\n",
    "\n",
    "        # Save metrics\n",
    "        acc = accuracy_score(label_test, y_pred)\n",
    "        f1 = f1_score(label_test, y_pred, average='binary')\n",
    "        f1_macro = f1_score(label_test, y_pred, average='macro')\n",
    "\n",
    "        accVet.append(acc)\n",
    "        f1Vet.append(f1)\n",
    "        f1MacroVet.append(f1_macro)\n",
    "\n",
    "        # Save all predictions for final report\n",
    "        all_y_true.extend(label_test)\n",
    "        all_y_pred.extend(y_pred)\n",
    "\n",
    "    # Final classification report across all folds\n",
    "    print(\"\\n=== Final Classification Report (All Folds Combined) ===\")\n",
    "    print(classification_report(all_y_true, all_y_pred, digits=3))\n",
    "\n",
    "    return (accVet, f1Vet, f1MacroVet)\n"
   ]
  },
  {
   "cell_type": "markdown",
   "id": "882ec543",
   "metadata": {},
   "source": [
    "\n",
    "---\n",
    "## Abordagem **Probabilística** - Naive Bayes"
   ]
  },
  {
   "cell_type": "code",
   "execution_count": null,
   "id": "346d0baa",
   "metadata": {},
   "outputs": [],
   "source": [
    "acc, f1, f1Macro = applyKfold(data, labels, 10, GaussianNB())\n",
    "print(\"Accuracy Score: \", round(np.mean(acc), 4))\n",
    "print(\"F1 Score: \", round(np.mean(f1), 4))\n",
    "print(\"F1 Macro Score: \", round(np.mean(f1Macro), 4))"
   ]
  },
  {
   "cell_type": "markdown",
   "id": "229a9aad",
   "metadata": {},
   "source": [
    "\n",
    "---\n",
    "## Abordagem **Simbólica** - Decision Tree"
   ]
  },
  {
   "cell_type": "code",
   "execution_count": null,
   "id": "3c79bc0a",
   "metadata": {},
   "outputs": [],
   "source": [
    "acc, f1, f1Macro = applyKfold(data, labels, 3, DecisionTreeClassifier(criterion='gini', max_depth=15))\n",
    "print(\"Accuracy Score: \", round(np.mean(acc), 4))\n",
    "print(\"F1 Score: \", round(np.mean(f1), 4))\n",
    "print(\"F1 Macro Score: \", round(np.mean(f1Macro), 4))"
   ]
  },
  {
   "cell_type": "markdown",
   "id": "a7a8db99",
   "metadata": {},
   "source": [
    "\n",
    "---\n",
    "## Abordagem **Conexionista** - Multilayer Perceptron\n",
    "\n",
    "Para essa abordagem, duas maneiras diferentes foram utilizadas para testar o Multilayer Perceptron:\n",
    "- Utilizando o Keras models do Tensorflow\n",
    "- Utilizando o sklearn com suas neural networks\n",
    "\n",
    "Para ambos os casos foi utilizado o 'early stopping' para evitar eventuais overfittings"
   ]
  },
  {
   "cell_type": "markdown",
   "id": "12de6894",
   "metadata": {},
   "source": [
    "MLP com o Keras"
   ]
  },
  {
   "cell_type": "code",
   "execution_count": null,
   "id": "707395af",
   "metadata": {},
   "outputs": [],
   "source": [
    "value_1 = 32\n",
    "value_2 = 16\n",
    "\n",
    "mlp = Sequential()\n",
    "mlp.add(Dense(value_1, input_shape=(data.shape[1],), activation='tanh'))\n",
    "mlp.add(Dropout(0.1))\n",
    "mlp.add(Dense(value_2, input_shape=(data.shape[1],), activation='tanh'))\n",
    "mlp.add(Dropout(0.1))\n",
    "mlp.add(Dense(1, input_shape=(data.shape[1],), activation='sigmoid'))\n",
    "\n",
    "mlp.compile(loss='binary_crossentropy', optimizer='adam', metrics=['accuracy'])\n",
    "mlp.summary()"
   ]
  },
  {
   "cell_type": "code",
   "execution_count": null,
   "id": "4ff10136",
   "metadata": {},
   "outputs": [],
   "source": [
    "early_stop = EarlyStopping(monitor='val_loss', patience=10, restore_best_weights=True)\n",
    "X_train, X_test, y_train, y_test = train_test_split(data, labels, test_size=0.2, stratify=labels, random_state=42)\n",
    "\n",
    "history = mlp.fit(\n",
    "    X_train,\n",
    "    y_train,\n",
    "    epochs=1000,\n",
    "    validation_split=0.2,\n",
    "    callbacks=[early_stop],\n",
    "    verbose=1\n",
    ")"
   ]
  },
  {
   "cell_type": "code",
   "execution_count": null,
   "id": "abbbefea",
   "metadata": {},
   "outputs": [],
   "source": [
    "# Plotando curva de aprendizado\n",
    "plt.plot(history.history['accuracy'], label='Treino')\n",
    "plt.plot(history.history['val_accuracy'], label='Validação')\n",
    "plt.xlabel('Épocas')\n",
    "plt.ylabel('Acurácia')\n",
    "plt.legend()\n",
    "plt.title(\"Curva de Aprendizado\")\n",
    "plt.show()"
   ]
  },
  {
   "cell_type": "code",
   "execution_count": null,
   "id": "9e727254",
   "metadata": {},
   "outputs": [],
   "source": [
    "# Avaliar no conjunto de teste\n",
    "test_loss, test_acc = mlp.evaluate(X_test, y_test, verbose=1)\n",
    "\n",
    "y_pred_proba = mlp.predict(X_test)\n",
    "y_pred = (y_pred_proba > 0.5).astype(int)\n",
    "\n",
    "print(classification_report(y_test, y_pred, digits=3))\n",
    "print(f\"[MLP] Acurácia no teste final: {test_acc:.4f}, Loss: {test_loss:.4f}\")"
   ]
  },
  {
   "cell_type": "markdown",
   "id": "e51e48db",
   "metadata": {},
   "source": [
    "MLP com o sklearn"
   ]
  },
  {
   "cell_type": "code",
   "execution_count": null,
   "id": "1f9b6ad1",
   "metadata": {},
   "outputs": [],
   "source": [
    "# Avaliar MLP com o sklearn\n",
    "from sklearn.neural_network import MLPClassifier\n",
    "acc, f1, f1Macro = applyKfold(data, labels, 2, MLPClassifier(early_stopping=True, max_iter=300))\n",
    "print(\"Accuracy Score: \", round(np.mean(acc), 4))\n",
    "print(\"F1 Score: \", round(np.mean(f1), 4))\n",
    "print(\"F1 Macro Score: \", round(np.mean(f1Macro), 4))"
   ]
  },
  {
   "cell_type": "markdown",
   "id": "2fb28a9e",
   "metadata": {},
   "source": [
    "\n",
    "---\n",
    "## Abordagem **Estatística** - SVC"
   ]
  },
  {
   "cell_type": "code",
   "execution_count": null,
   "id": "d0d037a7",
   "metadata": {},
   "outputs": [],
   "source": [
    "X_train, X_test, y_train, y_test = train_test_split(data, labels, test_size=0.2, stratify=labels, random_state=42)\n",
    "\n",
    "scaler = StandardScaler()\n",
    "X_train_scaled = scaler.fit_transform(X_train)\n",
    "X_test_scaled = scaler.transform(X_test)\n",
    "\n",
    "# classificador\n",
    "clf_svc = SVC(kernel=\"rbf\", C=1, gamma='scale', max_iter=10000, class_weight='balanced')\n",
    "clf_svc.fit(X_train_scaled, y_train)\n",
    "\n",
    "# predição\n",
    "y_pred = clf_svc.predict(X_test_scaled)\n",
    "\n",
    "# avaliação\n",
    "acc = accuracy_score(y_test, y_pred)\n",
    "f1 = f1_score(y_test, y_pred)\n",
    "f1_macro = f1_score(y_test, y_pred, average='macro')\n",
    "\n",
    "print(\"Accuracy Score:\", round(acc, 4))\n",
    "print(\"F1 Score:\", round(f1, 4))\n",
    "print(\"F1 Macro Score:\", round(f1_macro, 4))\n",
    "\n",
    "from sklearn.metrics import classification_report, confusion_matrix\n",
    "print(classification_report(y_test, y_pred, digits=3))\n",
    "print(confusion_matrix(y_test, y_pred))"
   ]
  },
  {
   "cell_type": "code",
   "execution_count": null,
   "id": "9f36b738",
   "metadata": {},
   "outputs": [],
   "source": [
    "df_teste['content'] = df_teste['content'].astype(str)\n",
    "df_teste['features'] = list(model.encode(df_teste['content'].tolist(), show_progress_bar=True))\n",
    "X_teste_final = scaler.transform(df_teste['features'].tolist())\n",
    "df_teste['Engagement'] = clf_svc.predict(X_teste_final)\n",
    "df_teste['ID'] = range(len(df_teste))\n",
    "df_teste"
   ]
  },
  {
   "cell_type": "code",
   "execution_count": null,
   "id": "ad07676d",
   "metadata": {},
   "outputs": [],
   "source": [
    "df_teste['Engagement'].value_counts()"
   ]
  },
  {
   "cell_type": "code",
   "execution_count": null,
   "id": "d89e680d",
   "metadata": {},
   "outputs": [],
   "source": [
    "df_teste[['ID','Engagement']].to_csv('df_kaggle.csv', index=False)"
   ]
  },
  {
   "cell_type": "markdown",
   "id": "2e0deff7",
   "metadata": {},
   "source": [
    "### Conclusão\n",
    "\n",
    "O que apresentou o melhor resultado nesta análise foi o classificador SVC na abordagem estatística"
   ]
  }
 ],
 "metadata": {
  "kernelspec": {
   "display_name": "IA",
   "language": "python",
   "name": "python3"
  },
  "language_info": {
   "codemirror_mode": {
    "name": "ipython",
    "version": 3
   },
   "file_extension": ".py",
   "mimetype": "text/x-python",
   "name": "python",
   "nbconvert_exporter": "python",
   "pygments_lexer": "ipython3",
   "version": "3.12.3"
  }
 },
 "nbformat": 4,
 "nbformat_minor": 5
}
